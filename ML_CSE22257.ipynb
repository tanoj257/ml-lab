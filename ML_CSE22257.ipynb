{
 "cells": [
  {
   "cell_type": "code",
   "execution_count": null,
   "id": "1bae5a1c",
   "metadata": {},
   "outputs": [],
   "source": []
  },
  {
   "cell_type": "code",
   "execution_count": 9,
   "id": "e5ea2483",
   "metadata": {},
   "outputs": [
    {
     "name": "stdout",
     "output_type": "stream",
     "text": [
      "The pairs with sum equal to 10 are 2\n"
     ]
    }
   ],
   "source": [
    "def countpairs(list,sum):\n",
    "    count=0\n",
    "    l=len(list)\n",
    "    for a in range(l):\n",
    "        for b in range(a + 1,l):\n",
    "            if list[a] + list[b] == sum:\n",
    "                count = count + 1\n",
    "    return count\n",
    "list = [2,7,4,1,3,6]\n",
    "sum = 10\n",
    "print(\"The pairs with sum equal to\",sum,\"are\",countpairs(list,sum))\n",
    "            \n",
    "    "
   ]
  },
  {
   "cell_type": "code",
   "execution_count": null,
   "id": "d39e25c5",
   "metadata": {},
   "outputs": [],
   "source": [
    "\n"
   ]
  },
  {
   "cell_type": "code",
   "execution_count": 12,
   "id": "3d88fff9",
   "metadata": {},
   "outputs": [
    {
     "name": "stdout",
     "output_type": "stream",
     "text": [
      "The range of the list is 8\n"
     ]
    }
   ],
   "source": [
    "def rangee(list):\n",
    "    if len(list) < 3:\n",
    "        return \"Range determination not possible\"\n",
    "    minimum = min(list)\n",
    "    maximum = max(list)\n",
    "    ran = maximum - minimum\n",
    "    return ran\n",
    "list = [5,3,8,1,0,4]\n",
    "print(\"The range of the list is\",rangee(list))"
   ]
  },
  {
   "cell_type": "code",
   "execution_count": null,
   "id": "3254ae6a",
   "metadata": {},
   "outputs": [
    {
     "name": "stdout",
     "output_type": "stream",
     "text": [
      "Matrix Exponentiation Program\n"
     ]
    }
   ],
   "source": [
    "def matrix_multiply(A, B):\n",
    "    n = len(A)\n",
    "    result = [[0] * n for _ in range(n)]\n",
    "   \n",
    "    for i in range(n):\n",
    "        for j in range(n):\n",
    "            result[i][j] = sum(A[i][k] * B[k][j] for k in range(n))\n",
    "   \n",
    "    return result\n",
    "\n",
    "def matrix_power(A, m):\n",
    "    if m < 1:\n",
    "        raise ValueError(\"The exponent m must be a positive integer.\")\n",
    "    n = len(A)\n",
    "    result = [[1 if i == j else 0 for j in range(n)] for i in range(n)]\n",
    "    base = A\n",
    "    while m > 0:\n",
    "        if m % 2 == 1:\n",
    "            result = matrix_multiply(result, base)\n",
    "        base = matrix_multiply(base, base)\n",
    "        m //= 2\n",
    "   \n",
    "    return result\n",
    "\n",
    "def get_matrix_input():\n",
    "    try:\n",
    "        n = int(input(\"Enter the size of the square matrix (n): \"))\n",
    "        matrix = []\n",
    "        print(\"Enter the matrix elements row by row, separated by spaces:\")\n",
    "        for i in range(n):\n",
    "            row = list(map(float, input().split()))\n",
    "            if len(row) != n:\n",
    "                raise ValueError(f\"Each row must have exactly {n} elements.\")\n",
    "            matrix.append(row)\n",
    "       \n",
    "        return matrix\n",
    "    except ValueError as e:\n",
    "        print(f\"Error: {e}\")\n",
    "        return None\n",
    "\n",
    "def get_integer_input(prompt):\n",
    "   \n",
    "    while True:\n",
    "        try:\n",
    "            value = int(input(prompt))\n",
    "            if value <= 0:\n",
    "                raise ValueError(\"The integer must be positive.\")\n",
    "            return value\n",
    "        except ValueError as e:\n",
    "            print(f\"Error: {e}. Please enter a positive integer.\")\n",
    "\n",
    "print(\"Matrix Exponentiation Program\")\n",
    "\n",
    "matrix = get_matrix_input()\n",
    "if matrix is not None:\n",
    "    exponent = get_integer_input(\"Enter the positive integer m: \")\n",
    "   \n",
    "    try:\n",
    "        result = matrix_power(matrix, exponent)\n",
    "        print(\"Matrix A^m is:\")\n",
    "        for row in result:\n",
    "            print(\" \".join(map(str, row)))\n",
    "    except ValueError as e:\n",
    "        print(f\"Error: {e}\")"
   ]
  },
  {
   "cell_type": "code",
   "execution_count": 37,
   "id": "42acdb37",
   "metadata": {},
   "outputs": [
    {
     "name": "stdout",
     "output_type": "stream",
     "text": [
      "Enter the string: apple\n",
      "The highest occurring character is 'p' with occurrence count 2.\n"
     ]
    }
   ],
   "source": [
    "def highest__occurrence(input__string):\n",
    "    count_dict = {}\n",
    "   \n",
    "    for char in input__string:\n",
    "        if char.isalpha():\n",
    "            char = char.lower()\n",
    "            if char in count_dict:\n",
    "                count_dict[char] += 1\n",
    "            else:\n",
    "                count_dict[char] = 1\n",
    "   \n",
    "    if not count_dict:\n",
    "        return \"No alphabetic characters found.\"\n",
    "   \n",
    "    highest_char = max(count_dict, key=count_dict.get)\n",
    "    highest_count = count_dict[highest_char]\n",
    "   \n",
    "    return highest_char, highest_count\n",
    "\n",
    "input__string = input(\"Enter the string: \")\n",
    "char, count = highest__occurrence(input__string)\n",
    "print(f\"The highest occurring character is '{char}' with occurrence count {count}.\")\n"
   ]
  },
  {
   "cell_type": "code",
   "execution_count": null,
   "id": "80f1ca50",
   "metadata": {},
   "outputs": [],
   "source": [
    "\n",
    "        \n",
    "    \n",
    "   \n",
    "\n"
   ]
  },
  {
   "cell_type": "code",
   "execution_count": null,
   "id": "ac0757fe",
   "metadata": {},
   "outputs": [],
   "source": []
  },
  {
   "cell_type": "code",
   "execution_count": null,
   "id": "1e3baea6",
   "metadata": {},
   "outputs": [],
   "source": []
  },
  {
   "cell_type": "code",
   "execution_count": null,
   "id": "cfa31c7c",
   "metadata": {},
   "outputs": [],
   "source": []
  }
 ],
 "metadata": {
  "kernelspec": {
   "display_name": "Python 3 (ipykernel)",
   "language": "python",
   "name": "python3"
  },
  "language_info": {
   "codemirror_mode": {
    "name": "ipython",
    "version": 3
   },
   "file_extension": ".py",
   "mimetype": "text/x-python",
   "name": "python",
   "nbconvert_exporter": "python",
   "pygments_lexer": "ipython3",
   "version": "3.11.4"
  }
 },
 "nbformat": 4,
 "nbformat_minor": 5
}
